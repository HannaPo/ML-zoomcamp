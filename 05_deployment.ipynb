{
  "nbformat": 4,
  "nbformat_minor": 0,
  "metadata": {
    "colab": {
      "provenance": [],
      "authorship_tag": "ABX9TyMWAuZ4PeblttcacU9mnwYL",
      "include_colab_link": true
    },
    "kernelspec": {
      "name": "python3",
      "display_name": "Python 3"
    },
    "language_info": {
      "name": "python"
    }
  },
  "cells": [
    {
      "cell_type": "markdown",
      "metadata": {
        "id": "view-in-github",
        "colab_type": "text"
      },
      "source": [
        "<a href=\"https://colab.research.google.com/github/HannaPo/ML-zoomcamp/blob/master/05_deployment.ipynb\" target=\"_parent\"><img src=\"https://colab.research.google.com/assets/colab-badge.svg\" alt=\"Open In Colab\"/></a>"
      ]
    },
    {
      "cell_type": "markdown",
      "source": [
        "**Question 1 What's the version of pipenv you installed?**"
      ],
      "metadata": {
        "id": "hjdSiXkZtnYk"
      }
    },
    {
      "cell_type": "code",
      "source": [
        "!pip install pipenv"
      ],
      "metadata": {
        "colab": {
          "base_uri": "https://localhost:8080/"
        },
        "id": "eLJhk8-wtuoi",
        "outputId": "fbc0d0cf-68d4-4eb7-93fa-165816e8c78e"
      },
      "execution_count": 13,
      "outputs": [
        {
          "output_type": "stream",
          "name": "stdout",
          "text": [
            "Collecting pipenv\n",
            "  Downloading pipenv-2023.10.3-py3-none-any.whl (3.2 MB)\n",
            "\u001b[2K     \u001b[90m━━━━━━━━━━━━━━━━━━━━━━━━━━━━━━━━━━━━━━━━\u001b[0m \u001b[32m3.2/3.2 MB\u001b[0m \u001b[31m14.8 MB/s\u001b[0m eta \u001b[36m0:00:00\u001b[0m\n",
            "\u001b[?25hRequirement already satisfied: certifi in /usr/local/lib/python3.10/dist-packages (from pipenv) (2023.7.22)\n",
            "Requirement already satisfied: setuptools>=67 in /usr/local/lib/python3.10/dist-packages (from pipenv) (67.7.2)\n",
            "Collecting virtualenv>=20.24.2 (from pipenv)\n",
            "  Downloading virtualenv-20.24.5-py3-none-any.whl (3.7 MB)\n",
            "\u001b[2K     \u001b[90m━━━━━━━━━━━━━━━━━━━━━━━━━━━━━━━━━━━━━━━━\u001b[0m \u001b[32m3.7/3.7 MB\u001b[0m \u001b[31m32.5 MB/s\u001b[0m eta \u001b[36m0:00:00\u001b[0m\n",
            "\u001b[?25hCollecting distlib<1,>=0.3.7 (from virtualenv>=20.24.2->pipenv)\n",
            "  Downloading distlib-0.3.7-py2.py3-none-any.whl (468 kB)\n",
            "\u001b[2K     \u001b[90m━━━━━━━━━━━━━━━━━━━━━━━━━━━━━━━━━━━━━━━━\u001b[0m \u001b[32m468.9/468.9 kB\u001b[0m \u001b[31m28.6 MB/s\u001b[0m eta \u001b[36m0:00:00\u001b[0m\n",
            "\u001b[?25hRequirement already satisfied: filelock<4,>=3.12.2 in /usr/local/lib/python3.10/dist-packages (from virtualenv>=20.24.2->pipenv) (3.12.4)\n",
            "Requirement already satisfied: platformdirs<4,>=3.9.1 in /usr/local/lib/python3.10/dist-packages (from virtualenv>=20.24.2->pipenv) (3.11.0)\n",
            "Installing collected packages: distlib, virtualenv, pipenv\n",
            "Successfully installed distlib-0.3.7 pipenv-2023.10.3 virtualenv-20.24.5\n"
          ]
        }
      ]
    },
    {
      "cell_type": "code",
      "source": [
        "!pipenv --version"
      ],
      "metadata": {
        "colab": {
          "base_uri": "https://localhost:8080/"
        },
        "id": "nedekbqXt4mu",
        "outputId": "cbb3f7e2-702f-4632-a006-403fee9a1784"
      },
      "execution_count": 14,
      "outputs": [
        {
          "output_type": "stream",
          "name": "stdout",
          "text": [
            "\u001b[1mpipenv\u001b[0m, version 2023.10.3\n"
          ]
        }
      ]
    },
    {
      "cell_type": "markdown",
      "source": [
        "**Question 2 What's the first hash for scikit-learn you get in Pipfile.lock?**"
      ],
      "metadata": {
        "id": "j_cKuM75t824"
      }
    },
    {
      "cell_type": "code",
      "source": [
        "!pipenv install scikit-learn==1.3.1"
      ],
      "metadata": {
        "colab": {
          "base_uri": "https://localhost:8080/"
        },
        "id": "aO-1Iq3Yt8QG",
        "outputId": "f2fb8309-6ac4-443a-cec2-492564cc252b"
      },
      "execution_count": 15,
      "outputs": [
        {
          "output_type": "stream",
          "name": "stdout",
          "text": [
            "\u001b[1mCreating a virtualenv for this project...\u001b[0m\n",
            "Pipfile: \u001b[33m\u001b[1m/content/Pipfile\u001b[0m\n",
            "\u001b[1mUsing default python from\u001b[0m \u001b[33m\u001b[1m/usr/bin/python3\u001b[0m \u001b[32m(3.10.12)\u001b[0m \u001b[1mto create virtualenv...\u001b[0m\n",
            "\u001b[2K\u001b[32m⠼\u001b[0m Creating virtual environment...\u001b[36mcreated virtual environment CPython3.10.12.final.0-64 in 1021ms\n",
            "  creator CPython3Posix(dest=/root/.local/share/virtualenvs/content-cQIIIOO2, clear=False, no_vcs_ignore=False, global=False)\n",
            "  seeder FromAppData(download=False, pip=bundle, setuptools=bundle, wheel=bundle, via=copy, app_data_dir=/root/.local/share/virtualenv)\n",
            "    added seed packages: pip==23.2.1, setuptools==68.2.0, wheel==0.41.2\n",
            "  activators BashActivator,CShellActivator,FishActivator,NushellActivator,PowerShellActivator,PythonActivator\n",
            "\u001b[0m\n",
            "✔ Successfully created virtual environment!\n",
            "\u001b[2K\u001b[32m⠼\u001b[0m Creating virtual environment...\n",
            "\u001b[1A\u001b[2K\u001b[32mVirtualenv location: /root/.local/share/virtualenvs/content-cQIIIOO2\u001b[0m\n",
            "\u001b[1mCreating a Pipfile for this project\u001b[0m\u001b[1;33m...\u001b[0m\n",
            "\u001b[1;32mInstalling scikit-\u001b[0m\u001b[1;33mlearn\u001b[0m\u001b[1;32m==\u001b[0m\u001b[1;36m1.3\u001b[0m\u001b[1;32m.\u001b[0m\u001b[1;36m1\u001b[0m\u001b[1;33m...\u001b[0m\n",
            "\u001b[?25lResolving scikit-\u001b[33mlearn\u001b[0m==\u001b[1;36m1.3\u001b[0m.\u001b[1;36m1\u001b[0m\u001b[33m...\u001b[0m\n",
            "\u001b[2K\u001b[1mAdded \u001b[0m\u001b[1;32mscikit-learn\u001b[0m to Pipfile's \u001b[1;33m[\u001b[0m\u001b[33mpackages\u001b[0m\u001b[1;33m]\u001b[0m \u001b[33m...\u001b[0m\n",
            "\u001b[2K✔ Installation Succeeded\n",
            "\u001b[2K\u001b[32m⠋\u001b[0m Installing scikit-learn...\n",
            "\u001b[1A\u001b[2K\u001b[1mPipfile.lock not found, creating\u001b[0m\u001b[1;33m...\u001b[0m\n",
            "Locking\u001b[0m \u001b[33m[packages]\u001b[0m dependencies...\u001b[0m\n",
            "\u001b[?25lBuilding requirements\u001b[33m...\u001b[0m\n",
            "\u001b[2KResolving dependencies\u001b[33m...\u001b[0m\n",
            "\u001b[2K✔ Success!\n",
            "\u001b[2K\u001b[32m⠙\u001b[0m Locking...\n",
            "\u001b[1A\u001b[2KLocking\u001b[0m \u001b[33m[dev-packages]\u001b[0m dependencies...\u001b[0m\n",
            "\u001b[1mUpdated Pipfile.lock (0e0fec5cb0e411bbb2c1c4f81b061609272a25d0c1f780d06dd30aff281bed02)!\u001b[0m\n",
            "\u001b[1mInstalling dependencies from Pipfile.lock \u001b[0m\u001b[1m(\u001b[0m\u001b[1m1bed02\u001b[0m\u001b[1m)\u001b[0m\u001b[1;33m...\u001b[0m\n",
            "To activate this project's virtualenv, run \u001b[33mpipenv shell\u001b[0m.\n",
            "Alternatively, run a command inside the virtualenv with \u001b[33mpipenv run\u001b[0m.\n"
          ]
        }
      ]
    },
    {
      "cell_type": "code",
      "source": [
        "!pip install kaggle"
      ],
      "metadata": {
        "colab": {
          "base_uri": "https://localhost:8080/"
        },
        "id": "1Xm82fJXo5U0",
        "outputId": "611b91fa-548d-4804-a793-414cae1ae4c9"
      },
      "execution_count": 4,
      "outputs": [
        {
          "output_type": "stream",
          "name": "stdout",
          "text": [
            "Requirement already satisfied: kaggle in /usr/local/lib/python3.10/dist-packages (1.5.16)\n",
            "Requirement already satisfied: six>=1.10 in /usr/local/lib/python3.10/dist-packages (from kaggle) (1.16.0)\n",
            "Requirement already satisfied: certifi in /usr/local/lib/python3.10/dist-packages (from kaggle) (2023.7.22)\n",
            "Requirement already satisfied: python-dateutil in /usr/local/lib/python3.10/dist-packages (from kaggle) (2.8.2)\n",
            "Requirement already satisfied: requests in /usr/local/lib/python3.10/dist-packages (from kaggle) (2.31.0)\n",
            "Requirement already satisfied: tqdm in /usr/local/lib/python3.10/dist-packages (from kaggle) (4.66.1)\n",
            "Requirement already satisfied: python-slugify in /usr/local/lib/python3.10/dist-packages (from kaggle) (8.0.1)\n",
            "Requirement already satisfied: urllib3 in /usr/local/lib/python3.10/dist-packages (from kaggle) (2.0.6)\n",
            "Requirement already satisfied: bleach in /usr/local/lib/python3.10/dist-packages (from kaggle) (6.1.0)\n",
            "Requirement already satisfied: webencodings in /usr/local/lib/python3.10/dist-packages (from bleach->kaggle) (0.5.1)\n",
            "Requirement already satisfied: text-unidecode>=1.3 in /usr/local/lib/python3.10/dist-packages (from python-slugify->kaggle) (1.3)\n",
            "Requirement already satisfied: charset-normalizer<4,>=2 in /usr/local/lib/python3.10/dist-packages (from requests->kaggle) (3.3.0)\n",
            "Requirement already satisfied: idna<4,>=2.5 in /usr/local/lib/python3.10/dist-packages (from requests->kaggle) (3.4)\n"
          ]
        }
      ]
    },
    {
      "cell_type": "code",
      "execution_count": 1,
      "metadata": {
        "id": "mBiJdgdjoZ6s"
      },
      "outputs": [],
      "source": [
        "import os\n",
        "folder_path = \"/content/homework\"\n",
        "os.makedirs(folder_path, exist_ok=True)"
      ]
    },
    {
      "cell_type": "code",
      "source": [
        "from google.colab import files\n",
        "files.upload()"
      ],
      "metadata": {
        "id": "1YAS1aU7ppfk"
      },
      "execution_count": null,
      "outputs": []
    },
    {
      "cell_type": "code",
      "source": [
        "!kaggle datasets download -d kapturovalexander/bank-credit-scoring"
      ],
      "metadata": {
        "colab": {
          "base_uri": "https://localhost:8080/"
        },
        "id": "3hpQgpcxorJm",
        "outputId": "ebb0b624-33a4-48e3-8aeb-1c6e4d11a590"
      },
      "execution_count": 12,
      "outputs": [
        {
          "output_type": "stream",
          "name": "stdout",
          "text": [
            "Traceback (most recent call last):\n",
            "  File \"/usr/local/bin/kaggle\", line 5, in <module>\n",
            "    from kaggle.cli import main\n",
            "  File \"/usr/local/lib/python3.10/dist-packages/kaggle/__init__.py\", line 23, in <module>\n",
            "    api.authenticate()\n",
            "  File \"/usr/local/lib/python3.10/dist-packages/kaggle/api/kaggle_api_extended.py\", line 403, in authenticate\n",
            "    raise IOError('Could not find {}. Make sure it\\'s located in'\n",
            "OSError: Could not find kaggle.json. Make sure it's located in /root/.kaggle. Or use the environment method.\n"
          ]
        }
      ]
    }
  ]
}