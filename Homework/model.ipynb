{
  "nbformat": 4,
  "nbformat_minor": 0,
  "metadata": {
    "colab": {
      "provenance": [],
      "authorship_tag": "ABX9TyPpOuo6RWLTjVzJZE6Vr7CO",
      "include_colab_link": true
    },
    "kernelspec": {
      "name": "python3",
      "display_name": "Python 3"
    },
    "language_info": {
      "name": "python"
    }
  },
  "cells": [
    {
      "cell_type": "markdown",
      "metadata": {
        "id": "view-in-github",
        "colab_type": "text"
      },
      "source": [
        "<a href=\"https://colab.research.google.com/github/HannaPo/ML-zoomcamp/blob/master/05_deployment_hw.ipynb\" target=\"_parent\"><img src=\"https://colab.research.google.com/assets/colab-badge.svg\" alt=\"Open In Colab\"/></a>"
      ]
    },
    {
      "cell_type": "code",
      "execution_count": 2,
      "metadata": {
        "colab": {
          "base_uri": "https://localhost:8080/"
        },
        "id": "W35uO8Y-oAHU",
        "outputId": "ebcf7ba0-9327-4fd9-ecd3-963a571ee6f5"
      },
      "outputs": [
        {
          "output_type": "stream",
          "name": "stdout",
          "text": [
            "Requirement already satisfied: pipenv in /usr/local/lib/python3.10/dist-packages (2023.10.3)\n",
            "Requirement already satisfied: certifi in /usr/local/lib/python3.10/dist-packages (from pipenv) (2023.7.22)\n",
            "Requirement already satisfied: setuptools>=67 in /usr/local/lib/python3.10/dist-packages (from pipenv) (67.7.2)\n",
            "Requirement already satisfied: virtualenv>=20.24.2 in /usr/local/lib/python3.10/dist-packages (from pipenv) (20.24.5)\n",
            "Requirement already satisfied: distlib<1,>=0.3.7 in /usr/local/lib/python3.10/dist-packages (from virtualenv>=20.24.2->pipenv) (0.3.7)\n",
            "Requirement already satisfied: filelock<4,>=3.12.2 in /usr/local/lib/python3.10/dist-packages (from virtualenv>=20.24.2->pipenv) (3.12.4)\n",
            "Requirement already satisfied: platformdirs<4,>=3.9.1 in /usr/local/lib/python3.10/dist-packages (from virtualenv>=20.24.2->pipenv) (3.11.0)\n"
          ]
        }
      ],
      "source": [
        "!pip install pipenv"
      ]
    },
    {
      "cell_type": "code",
      "source": [
        "!pipenv --version"
      ],
      "metadata": {
        "colab": {
          "base_uri": "https://localhost:8080/"
        },
        "id": "MtreZdcooVa5",
        "outputId": "23b59cb1-cb1b-4e35-ad4b-0bead93051b7"
      },
      "execution_count": 3,
      "outputs": [
        {
          "output_type": "stream",
          "name": "stdout",
          "text": [
            "\u001b[1mpipenv\u001b[0m, version 2023.10.3\n"
          ]
        }
      ]
    },
    {
      "cell_type": "code",
      "source": [
        "!pipenv --python 3.10"
      ],
      "metadata": {
        "colab": {
          "base_uri": "https://localhost:8080/"
        },
        "id": "XlOW2xK1pMTV",
        "outputId": "9d2b3fee-d661-4e0c-eb84-c5e6eff6c35f"
      },
      "execution_count": 4,
      "outputs": [
        {
          "output_type": "stream",
          "name": "stdout",
          "text": [
            "\u001b[1mCreating a virtualenv for this project...\u001b[0m\n",
            "Pipfile: \u001b[33m\u001b[1m/content/Pipfile\u001b[0m\n",
            "\u001b[1mUsing\u001b[0m \u001b[33m\u001b[1m/usr/local/bin/python\u001b[0m \u001b[32m(3.10.12)\u001b[0m \u001b[1mto create virtualenv...\u001b[0m\n",
            "\u001b[2K\u001b[32m⠼\u001b[0m Creating virtual environment...\u001b[36mcreated virtual environment CPython3.10.12.final.0-64 in 1052ms\n",
            "  creator CPython3Posix(dest=/root/.local/share/virtualenvs/content-cQIIIOO2, clear=False, no_vcs_ignore=False, global=False)\n",
            "  seeder FromAppData(download=False, pip=bundle, setuptools=bundle, wheel=bundle, via=copy, app_data_dir=/root/.local/share/virtualenv)\n",
            "    added seed packages: pip==23.2.1, setuptools==68.2.0, wheel==0.41.2\n",
            "  activators BashActivator,CShellActivator,FishActivator,NushellActivator,PowerShellActivator,PythonActivator\n",
            "\u001b[0m\n",
            "✔ Successfully created virtual environment!\n",
            "\u001b[2K\u001b[32m⠼\u001b[0m Creating virtual environment...\n",
            "\u001b[1A\u001b[2K\u001b[32mVirtualenv location: /root/.local/share/virtualenvs/content-cQIIIOO2\u001b[0m\n",
            "\u001b[1mCreating a Pipfile for this project\u001b[0m\u001b[1;33m...\u001b[0m\n"
          ]
        }
      ]
    },
    {
      "cell_type": "code",
      "source": [
        "!pipenv install scikit-learn==1.3.1"
      ],
      "metadata": {
        "colab": {
          "base_uri": "https://localhost:8080/"
        },
        "id": "G3lVkXDBpeUH",
        "outputId": "424c7738-6141-4236-cfc6-b7d55436866c"
      },
      "execution_count": 5,
      "outputs": [
        {
          "output_type": "stream",
          "name": "stdout",
          "text": [
            "\u001b[1;32mInstalling scikit-\u001b[0m\u001b[1;33mlearn\u001b[0m\u001b[1;32m==\u001b[0m\u001b[1;36m1.3\u001b[0m\u001b[1;32m.\u001b[0m\u001b[1;36m1\u001b[0m\u001b[1;33m...\u001b[0m\n",
            "\u001b[?25lResolving scikit-\u001b[33mlearn\u001b[0m==\u001b[1;36m1.3\u001b[0m.\u001b[1;36m1\u001b[0m\u001b[33m...\u001b[0m\n",
            "\u001b[32m⠋\u001b[0m Installing...\r\u001b[2K\u001b[1mAdded \u001b[0m\u001b[1;32mscikit-learn\u001b[0m to Pipfile's \u001b[1;33m[\u001b[0m\u001b[33mpackages\u001b[0m\u001b[1;33m]\u001b[0m \u001b[33m...\u001b[0m\n",
            "\u001b[32m⠋\u001b[0m Installing scikit-learn...\r\u001b[2K✔ Installation Succeeded\n",
            "\u001b[32m⠋\u001b[0m Installing scikit-learn...\r\u001b[2K\u001b[32m⠋\u001b[0m Installing scikit-learn...\n",
            "\u001b[?25h\r\u001b[1A\u001b[2K\u001b[1mPipfile.lock not found, creating\u001b[0m\u001b[1;33m...\u001b[0m\n",
            "Locking\u001b[0m \u001b[33m[packages]\u001b[0m dependencies...\u001b[0m\n",
            "\u001b[?25lBuilding requirements\u001b[33m...\u001b[0m\n",
            "\u001b[2KResolving dependencies\u001b[33m...\u001b[0m\n",
            "\u001b[2K✔ Success!\n",
            "\u001b[2K\u001b[32m⠇\u001b[0m Locking...\n",
            "\u001b[1A\u001b[2KLocking\u001b[0m \u001b[33m[dev-packages]\u001b[0m dependencies...\u001b[0m\n",
            "\u001b[1mUpdated Pipfile.lock (20ba9e474a8be782289b5bc79e78b4584f8217544f2b806f2d5f6f9a13ac3a98)!\u001b[0m\n",
            "\u001b[1mInstalling dependencies from Pipfile.lock \u001b[0m\u001b[1m(\u001b[0m\u001b[1mac3a98\u001b[0m\u001b[1m)\u001b[0m\u001b[1;33m...\u001b[0m\n",
            "To activate this project's virtualenv, run \u001b[33mpipenv shell\u001b[0m.\n",
            "Alternatively, run a command inside the virtualenv with \u001b[33mpipenv run\u001b[0m.\n"
          ]
        }
      ]
    },
    {
      "cell_type": "code",
      "source": [
        "!cat Pipfile.lock | grep 'scikit-learn'"
      ],
      "metadata": {
        "colab": {
          "base_uri": "https://localhost:8080/"
        },
        "id": "-vMYICFcqfpu",
        "outputId": "4fe11fa0-ce66-4384-d619-cea88133f8c4"
      },
      "execution_count": 6,
      "outputs": [
        {
          "output_type": "stream",
          "name": "stdout",
          "text": [
            "        \"scikit-learn\": {\n"
          ]
        }
      ]
    },
    {
      "cell_type": "code",
      "source": [
        "!grep -A 2 'scikit-learn\": {' Pipfile.lock"
      ],
      "metadata": {
        "colab": {
          "base_uri": "https://localhost:8080/"
        },
        "id": "D-vehsQprAGX",
        "outputId": "9456cd26-8491-4b81-e55d-da7aa0d90211"
      },
      "execution_count": 8,
      "outputs": [
        {
          "output_type": "stream",
          "name": "stdout",
          "text": [
            "        \"scikit-learn\": {\n",
            "            \"hashes\": [\n",
            "                \"sha256:0c275a06c5190c5ce00af0acbb61c06374087949f643ef32d355ece12c4db043\",\n"
          ]
        }
      ]
    },
    {
      "cell_type": "code",
      "source": [
        "!wget https://raw.githubusercontent.com/DataTalksClub/machine-learning-zoomcamp/master/cohorts/2023/05-deployment/homework/model1.bin\n",
        "!wget https://raw.githubusercontent.com/DataTalksClub/machine-learning-zoomcamp/master/cohorts/2023/05-deployment/homework/dv.bin\n"
      ],
      "metadata": {
        "colab": {
          "base_uri": "https://localhost:8080/"
        },
        "id": "MYJ5QmkDrSaJ",
        "outputId": "bbf34930-c209-4da3-9f6b-ee034a333360"
      },
      "execution_count": 10,
      "outputs": [
        {
          "output_type": "stream",
          "name": "stdout",
          "text": [
            "--2023-10-15 18:53:43--  https://raw.githubusercontent.com/DataTalksClub/machine-learning-zoomcamp/master/cohorts/2023/05-deployment/homework/model1.bin\n",
            "Resolving raw.githubusercontent.com (raw.githubusercontent.com)... 185.199.110.133, 185.199.108.133, 185.199.111.133, ...\n",
            "Connecting to raw.githubusercontent.com (raw.githubusercontent.com)|185.199.110.133|:443... connected.\n",
            "HTTP request sent, awaiting response... 200 OK\n",
            "Length: 842 [application/octet-stream]\n",
            "Saving to: ‘model1.bin’\n",
            "\n",
            "\rmodel1.bin            0%[                    ]       0  --.-KB/s               \rmodel1.bin          100%[===================>]     842  --.-KB/s    in 0s      \n",
            "\n",
            "2023-10-15 18:53:43 (39.1 MB/s) - ‘model1.bin’ saved [842/842]\n",
            "\n",
            "--2023-10-15 18:53:43--  https://raw.githubusercontent.com/DataTalksClub/machine-learning-zoomcamp/master/cohorts/2023/05-deployment/homework/dv.bin\n",
            "Resolving raw.githubusercontent.com (raw.githubusercontent.com)... 185.199.108.133, 185.199.109.133, 185.199.110.133, ...\n",
            "Connecting to raw.githubusercontent.com (raw.githubusercontent.com)|185.199.108.133|:443... connected.\n",
            "HTTP request sent, awaiting response... 200 OK\n",
            "Length: 560 [application/octet-stream]\n",
            "Saving to: ‘dv.bin’\n",
            "\n",
            "dv.bin              100%[===================>]     560  --.-KB/s    in 0s      \n",
            "\n",
            "2023-10-15 18:53:44 (50.9 MB/s) - ‘dv.bin’ saved [560/560]\n",
            "\n"
          ]
        }
      ]
    }
  ]
}