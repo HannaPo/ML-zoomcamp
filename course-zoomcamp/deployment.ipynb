{
  "cells": [
    {
      "cell_type": "code",
      "execution_count": 1,
      "id": "b3ff7c44",
      "metadata": {
        "id": "b3ff7c44"
      },
      "outputs": [],
      "source": [
        "import pandas as pd\n",
        "import numpy as np\n",
        "\n",
        "import matplotlib.pyplot as plt"
      ]
    },
    {
      "cell_type": "code",
      "execution_count": 2,
      "id": "ff66e768",
      "metadata": {
        "id": "ff66e768"
      },
      "outputs": [],
      "source": [
        "from sklearn.model_selection import train_test_split\n",
        "from sklearn.feature_extraction import DictVectorizer\n",
        "from sklearn.linear_model import LogisticRegression\n",
        "from sklearn.model_selection import KFold\n",
        "from sklearn.metrics import roc_auc_score\n",
        "from sklearn.metrics import roc_curve\n",
        "from sklearn.metrics import accuracy_score"
      ]
    },
    {
      "cell_type": "code",
      "source": [
        "data = 'https://raw.githubusercontent.com/alexeygrigorev/mlbookcamp-code/master/chapter-03-churn-prediction/WA_Fn-UseC_-Telco-Customer-Churn.csv'"
      ],
      "metadata": {
        "id": "wI2lLlT3LHy8"
      },
      "id": "wI2lLlT3LHy8",
      "execution_count": 3,
      "outputs": []
    },
    {
      "cell_type": "code",
      "source": [
        "!wget $data -O data-week-3.csv"
      ],
      "metadata": {
        "id": "-OIJ1nXwK1h2",
        "outputId": "45823fed-3c3b-45ea-811a-095f3a24e58b",
        "colab": {
          "base_uri": "https://localhost:8080/"
        }
      },
      "id": "-OIJ1nXwK1h2",
      "execution_count": 4,
      "outputs": [
        {
          "output_type": "stream",
          "name": "stdout",
          "text": [
            "--2023-10-14 07:18:34--  https://raw.githubusercontent.com/alexeygrigorev/mlbookcamp-code/master/chapter-03-churn-prediction/WA_Fn-UseC_-Telco-Customer-Churn.csv\n",
            "Resolving raw.githubusercontent.com (raw.githubusercontent.com)... 185.199.108.133, 185.199.109.133, 185.199.110.133, ...\n",
            "Connecting to raw.githubusercontent.com (raw.githubusercontent.com)|185.199.108.133|:443... connected.\n",
            "HTTP request sent, awaiting response... 200 OK\n",
            "Length: 977501 (955K) [text/plain]\n",
            "Saving to: ‘data-week-3.csv’\n",
            "\n",
            "\rdata-week-3.csv       0%[                    ]       0  --.-KB/s               \rdata-week-3.csv     100%[===================>] 954.59K  --.-KB/s    in 0.08s   \n",
            "\n",
            "2023-10-14 07:18:35 (11.7 MB/s) - ‘data-week-3.csv’ saved [977501/977501]\n",
            "\n"
          ]
        }
      ]
    },
    {
      "cell_type": "code",
      "execution_count": 5,
      "id": "81ee3ecc",
      "metadata": {
        "id": "81ee3ecc"
      },
      "outputs": [],
      "source": [
        "df = pd.read_csv('data-week-3.csv')\n",
        "\n",
        "df.columns = df.columns.str.lower().str.replace(' ', '_')\n",
        "\n",
        "categorical_columns = list(df.dtypes[df.dtypes == 'object'].index)\n",
        "\n",
        "for c in categorical_columns:\n",
        "    df[c] = df[c].str.lower().str.replace(' ', '_')\n",
        "\n",
        "df.totalcharges = pd.to_numeric(df.totalcharges, errors='coerce')\n",
        "df.totalcharges = df.totalcharges.fillna(0)\n",
        "\n",
        "df.churn = (df.churn == 'yes').astype(int)"
      ]
    },
    {
      "cell_type": "code",
      "execution_count": 6,
      "id": "0b1903b3",
      "metadata": {
        "id": "0b1903b3"
      },
      "outputs": [],
      "source": [
        "df_full_train, df_test = train_test_split(df, test_size=0.25, random_state=1)"
      ]
    },
    {
      "cell_type": "code",
      "execution_count": 7,
      "id": "ab4132a4",
      "metadata": {
        "id": "ab4132a4"
      },
      "outputs": [],
      "source": [
        "numerical = ['tenure', 'monthlycharges', 'totalcharges']\n",
        "\n",
        "categorical = [\n",
        "    'gender',\n",
        "    'seniorcitizen',\n",
        "    'partner',\n",
        "    'dependents',\n",
        "    'phoneservice',\n",
        "    'multiplelines',\n",
        "    'internetservice',\n",
        "    'onlinesecurity',\n",
        "    'onlinebackup',\n",
        "    'deviceprotection',\n",
        "    'techsupport',\n",
        "    'streamingtv',\n",
        "    'streamingmovies',\n",
        "    'contract',\n",
        "    'paperlessbilling',\n",
        "    'paymentmethod',\n",
        "]"
      ]
    },
    {
      "cell_type": "code",
      "execution_count": 8,
      "id": "92708443",
      "metadata": {
        "id": "92708443"
      },
      "outputs": [],
      "source": [
        "def train(df_train, y_train, C=1.0):\n",
        "    dicts = df_train[categorical + numerical].to_dict(orient='records')\n",
        "\n",
        "    dv = DictVectorizer(sparse=False)\n",
        "    X_train = dv.fit_transform(dicts)\n",
        "\n",
        "    model = LogisticRegression(C=C, max_iter=1000)\n",
        "    model.fit(X_train, y_train)\n",
        "\n",
        "    return dv, model"
      ]
    },
    {
      "cell_type": "code",
      "execution_count": 9,
      "id": "08ac302c",
      "metadata": {
        "id": "08ac302c"
      },
      "outputs": [],
      "source": [
        "def predict(df, dv, model):\n",
        "    dicts = df[categorical + numerical].to_dict(orient='records')\n",
        "\n",
        "    X = dv.transform(dicts)\n",
        "    y_pred = model.predict_proba(X)[:, 1]\n",
        "\n",
        "    return y_pred"
      ]
    },
    {
      "cell_type": "code",
      "source": [
        "C = 1.0\n",
        "n_splits = 5"
      ],
      "metadata": {
        "id": "AIxJmZApNiMz"
      },
      "id": "AIxJmZApNiMz",
      "execution_count": 10,
      "outputs": []
    },
    {
      "cell_type": "code",
      "source": [
        "kfold = KFold(n_splits=n_splits, shuffle=True, random_state=1)\n",
        "\n",
        "scores = []\n",
        "\n",
        "for train_idx, val_idx in kfold.split(df_full_train):\n",
        "    df_train = df_full_train.iloc[train_idx]\n",
        "    df_val = df_full_train.iloc[val_idx]\n",
        "\n",
        "    y_train = df_train.churn.values\n",
        "    y_val = df_val.churn.values\n",
        "\n",
        "    dv, model = train(df_train, y_train, C=C)\n",
        "    y_pred = predict(df_val, dv, model)\n",
        "\n",
        "    auc = roc_auc_score(y_val, y_pred)\n",
        "    scores.append(auc)\n",
        "\n",
        "print('C=%s %.3f +- %.3f' % (C, np.mean(scores), np.std(scores)))"
      ],
      "metadata": {
        "id": "fDMPZdGDNzmt",
        "outputId": "9afe8f96-e54d-4ee1-b9fc-c709b545b43d",
        "colab": {
          "base_uri": "https://localhost:8080/"
        }
      },
      "id": "fDMPZdGDNzmt",
      "execution_count": 11,
      "outputs": [
        {
          "output_type": "stream",
          "name": "stdout",
          "text": [
            "C=1.0 0.839 +- 0.011\n"
          ]
        }
      ]
    },
    {
      "cell_type": "code",
      "source": [
        "scores"
      ],
      "metadata": {
        "id": "JFOFhUHiQkyb",
        "outputId": "1753db9e-b3cc-4e98-86d5-d5b91c5594d2",
        "colab": {
          "base_uri": "https://localhost:8080/"
        }
      },
      "id": "JFOFhUHiQkyb",
      "execution_count": 12,
      "outputs": [
        {
          "output_type": "execute_result",
          "data": {
            "text/plain": [
              "[0.8419622135350024,\n",
              " 0.8568513338216217,\n",
              " 0.8406761625627719,\n",
              " 0.8239829091584618,\n",
              " 0.8308574879227053]"
            ]
          },
          "metadata": {},
          "execution_count": 12
        }
      ]
    },
    {
      "cell_type": "code",
      "execution_count": 13,
      "id": "03e81326",
      "metadata": {
        "id": "03e81326",
        "outputId": "692435e8-2b30-45ba-afca-f91eea192910",
        "colab": {
          "base_uri": "https://localhost:8080/"
        }
      },
      "outputs": [
        {
          "output_type": "execute_result",
          "data": {
            "text/plain": [
              "0.856455259255658"
            ]
          },
          "metadata": {},
          "execution_count": 13
        }
      ],
      "source": [
        "dv, model = train(df_full_train, df_full_train.churn.values, C=1.0)\n",
        "y_pred = predict(df_test, dv, model)\n",
        "y_test = df_test.churn.values\n",
        "auc = roc_auc_score(y_test, y_pred)\n",
        "auc"
      ]
    },
    {
      "cell_type": "markdown",
      "source": [
        "**Save the model**"
      ],
      "metadata": {
        "id": "MSY5_ryD9tFF"
      },
      "id": "MSY5_ryD9tFF"
    },
    {
      "cell_type": "code",
      "source": [
        "import pickle"
      ],
      "metadata": {
        "id": "T7oZNRSD9wV2"
      },
      "id": "T7oZNRSD9wV2",
      "execution_count": 14,
      "outputs": []
    },
    {
      "cell_type": "code",
      "source": [
        "out_file = f'model_C={C}.bin'\n",
        "out_file"
      ],
      "metadata": {
        "id": "pYVY6D_-98RY",
        "outputId": "69e30c6d-138d-4d59-a772-582dfd069112",
        "colab": {
          "base_uri": "https://localhost:8080/",
          "height": 36
        }
      },
      "id": "pYVY6D_-98RY",
      "execution_count": 22,
      "outputs": [
        {
          "output_type": "execute_result",
          "data": {
            "text/plain": [
              "'model_C=1.0.bin'"
            ],
            "application/vnd.google.colaboratory.intrinsic+json": {
              "type": "string"
            }
          },
          "metadata": {},
          "execution_count": 22
        }
      ]
    },
    {
      "cell_type": "code",
      "source": [
        "f_out = open(out_file, 'wb')\n",
        "(pickle.dump((dv, model), f_out))\n",
        "f_out.close()"
      ],
      "metadata": {
        "id": "3iTwXoux-KSd"
      },
      "id": "3iTwXoux-KSd",
      "execution_count": 16,
      "outputs": []
    },
    {
      "cell_type": "code",
      "source": [
        "with open(out_file, 'wb') as f_out:\n",
        "  (pickle.dump((dv, model), f_out))"
      ],
      "metadata": {
        "id": "b6sbUySuCA0m"
      },
      "id": "b6sbUySuCA0m",
      "execution_count": 17,
      "outputs": []
    },
    {
      "cell_type": "markdown",
      "source": [
        "**Load the model**"
      ],
      "metadata": {
        "id": "MUagvMe3CSAN"
      },
      "id": "MUagvMe3CSAN"
    },
    {
      "cell_type": "code",
      "source": [
        "import pickle"
      ],
      "metadata": {
        "id": "2-Wd6CVvCasW"
      },
      "id": "2-Wd6CVvCasW",
      "execution_count": 18,
      "outputs": []
    },
    {
      "cell_type": "code",
      "source": [
        "model_file = 'model_C=1.0.bin'"
      ],
      "metadata": {
        "id": "WXnZjcQzCgKd"
      },
      "id": "WXnZjcQzCgKd",
      "execution_count": 19,
      "outputs": []
    },
    {
      "cell_type": "code",
      "source": [
        "with open(model_file, 'rb') as f_in:\n",
        "  dv, model = pickle.load(f_in)"
      ],
      "metadata": {
        "id": "fRSL_CLsCqpr",
        "outputId": "22382e9d-61b4-4b8d-9fa5-9640ea1735ad",
        "colab": {
          "base_uri": "https://localhost:8080/",
          "height": 200
        }
      },
      "id": "fRSL_CLsCqpr",
      "execution_count": 23,
      "outputs": [
        {
          "output_type": "error",
          "ename": "FileNotFoundError",
          "evalue": "ignored",
          "traceback": [
            "\u001b[0;31m---------------------------------------------------------------------------\u001b[0m",
            "\u001b[0;31mFileNotFoundError\u001b[0m                         Traceback (most recent call last)",
            "\u001b[0;32m<ipython-input-23-bfa255d9980a>\u001b[0m in \u001b[0;36m<cell line: 1>\u001b[0;34m()\u001b[0m\n\u001b[0;32m----> 1\u001b[0;31m \u001b[0;32mwith\u001b[0m \u001b[0mopen\u001b[0m\u001b[0;34m(\u001b[0m\u001b[0mmodel_file\u001b[0m\u001b[0;34m,\u001b[0m \u001b[0;34m'rb'\u001b[0m\u001b[0;34m)\u001b[0m \u001b[0;32mas\u001b[0m \u001b[0mf_in\u001b[0m\u001b[0;34m:\u001b[0m\u001b[0;34m\u001b[0m\u001b[0;34m\u001b[0m\u001b[0m\n\u001b[0m\u001b[1;32m      2\u001b[0m   \u001b[0mdv\u001b[0m\u001b[0;34m,\u001b[0m \u001b[0mmodel\u001b[0m \u001b[0;34m=\u001b[0m \u001b[0mpickle\u001b[0m\u001b[0;34m.\u001b[0m\u001b[0mload\u001b[0m\u001b[0;34m(\u001b[0m\u001b[0mf_in\u001b[0m\u001b[0;34m)\u001b[0m\u001b[0;34m\u001b[0m\u001b[0;34m\u001b[0m\u001b[0m\n",
            "\u001b[0;31mFileNotFoundError\u001b[0m: [Errno 2] No such file or directory: 'model_C=1.0.bin'"
          ]
        }
      ]
    },
    {
      "cell_type": "code",
      "source": [
        "dv, model"
      ],
      "metadata": {
        "id": "l9B3S8VXC5Mc",
        "outputId": "07c2e46c-4e3b-426f-bf3b-df6419f79e2f",
        "colab": {
          "base_uri": "https://localhost:8080/"
        }
      },
      "id": "l9B3S8VXC5Mc",
      "execution_count": 21,
      "outputs": [
        {
          "output_type": "execute_result",
          "data": {
            "text/plain": [
              "(DictVectorizer(sparse=False), LogisticRegression(max_iter=1000))"
            ]
          },
          "metadata": {},
          "execution_count": 21
        }
      ]
    },
    {
      "cell_type": "code",
      "source": [
        "customer = {\n",
        "  'gender': 'female',\n",
        " 'seniorcitizen': 0,\n",
        " 'partner': 'yes',\n",
        " 'dependents': 'yes',\n",
        " 'phoneservice': 'yes',\n",
        " 'multiplelines': 'yes',\n",
        " 'internetservice': 'fiber_optic',\n",
        " 'onlinesecurity': 'yes',\n",
        " 'onlinebackup': 'no',\n",
        " 'deviceprotection': 'yes',\n",
        " 'techsupport': 'no',\n",
        " 'streamingtv': 'no',\n",
        " 'streamingmovies': 'no',\n",
        " 'contract': 'month-to-month',\n",
        " 'paperlessbilling': 'yes',\n",
        " 'paymentmethod': 'electronic_check',\n",
        " 'tenure': 1,\n",
        " 'monthlycharges': 29.85,\n",
        " 'totalcharges': 29.85\n",
        "  }"
      ],
      "metadata": {
        "id": "oyDCZ2t4Bmfd"
      },
      "id": "oyDCZ2t4Bmfd",
      "execution_count": null,
      "outputs": []
    }
  ],
  "metadata": {
    "kernelspec": {
      "display_name": "Python 3 (ipykernel)",
      "language": "python",
      "name": "python3"
    },
    "language_info": {
      "codemirror_mode": {
        "name": "ipython",
        "version": 3
      },
      "file_extension": ".py",
      "mimetype": "text/x-python",
      "name": "python",
      "nbconvert_exporter": "python",
      "pygments_lexer": "ipython3",
      "version": "3.8.11"
    },
    "colab": {
      "provenance": []
    }
  },
  "nbformat": 4,
  "nbformat_minor": 5
}