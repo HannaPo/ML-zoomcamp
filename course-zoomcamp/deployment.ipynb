{
  "cells": [
    {
      "cell_type": "code",
      "execution_count": 1,
      "id": "b3ff7c44",
      "metadata": {
        "id": "b3ff7c44"
      },
      "outputs": [],
      "source": [
        "import pandas as pd\n",
        "import numpy as np\n",
        "\n",
        "import matplotlib.pyplot as plt"
      ]
    },
    {
      "cell_type": "code",
      "execution_count": 2,
      "id": "ff66e768",
      "metadata": {
        "id": "ff66e768"
      },
      "outputs": [],
      "source": [
        "from sklearn.model_selection import train_test_split\n",
        "from sklearn.feature_extraction import DictVectorizer\n",
        "from sklearn.linear_model import LogisticRegression\n",
        "from sklearn.model_selection import KFold\n",
        "from sklearn.metrics import roc_auc_score\n",
        "from sklearn.metrics import roc_curve\n",
        "from sklearn.metrics import accuracy_score"
      ]
    },
    {
      "cell_type": "code",
      "source": [
        "data = 'https://raw.githubusercontent.com/alexeygrigorev/mlbookcamp-code/master/chapter-03-churn-prediction/WA_Fn-UseC_-Telco-Customer-Churn.csv'"
      ],
      "metadata": {
        "id": "wI2lLlT3LHy8"
      },
      "id": "wI2lLlT3LHy8",
      "execution_count": 3,
      "outputs": []
    },
    {
      "cell_type": "code",
      "source": [
        "!wget $data -O data-week-3.csv"
      ],
      "metadata": {
        "colab": {
          "base_uri": "https://localhost:8080/"
        },
        "id": "-OIJ1nXwK1h2",
        "outputId": "ba9f76f1-f4d4-473e-ee4a-de537d25564c"
      },
      "id": "-OIJ1nXwK1h2",
      "execution_count": 4,
      "outputs": [
        {
          "output_type": "stream",
          "name": "stdout",
          "text": [
            "--2023-10-14 07:34:09--  https://raw.githubusercontent.com/alexeygrigorev/mlbookcamp-code/master/chapter-03-churn-prediction/WA_Fn-UseC_-Telco-Customer-Churn.csv\n",
            "Resolving raw.githubusercontent.com (raw.githubusercontent.com)... 185.199.111.133, 185.199.108.133, 185.199.109.133, ...\n",
            "Connecting to raw.githubusercontent.com (raw.githubusercontent.com)|185.199.111.133|:443... connected.\n",
            "HTTP request sent, awaiting response... 200 OK\n",
            "Length: 977501 (955K) [text/plain]\n",
            "Saving to: ‘data-week-3.csv’\n",
            "\n",
            "\rdata-week-3.csv       0%[                    ]       0  --.-KB/s               \rdata-week-3.csv     100%[===================>] 954.59K  --.-KB/s    in 0.08s   \n",
            "\n",
            "2023-10-14 07:34:09 (12.4 MB/s) - ‘data-week-3.csv’ saved [977501/977501]\n",
            "\n"
          ]
        }
      ]
    },
    {
      "cell_type": "code",
      "execution_count": 5,
      "id": "81ee3ecc",
      "metadata": {
        "id": "81ee3ecc"
      },
      "outputs": [],
      "source": [
        "df = pd.read_csv('data-week-3.csv')\n",
        "\n",
        "df.columns = df.columns.str.lower().str.replace(' ', '_')\n",
        "\n",
        "categorical_columns = list(df.dtypes[df.dtypes == 'object'].index)\n",
        "\n",
        "for c in categorical_columns:\n",
        "    df[c] = df[c].str.lower().str.replace(' ', '_')\n",
        "\n",
        "df.totalcharges = pd.to_numeric(df.totalcharges, errors='coerce')\n",
        "df.totalcharges = df.totalcharges.fillna(0)\n",
        "\n",
        "df.churn = (df.churn == 'yes').astype(int)"
      ]
    },
    {
      "cell_type": "code",
      "execution_count": 6,
      "id": "0b1903b3",
      "metadata": {
        "id": "0b1903b3"
      },
      "outputs": [],
      "source": [
        "df_full_train, df_test = train_test_split(df, test_size=0.25, random_state=1)"
      ]
    },
    {
      "cell_type": "code",
      "execution_count": 7,
      "id": "ab4132a4",
      "metadata": {
        "id": "ab4132a4"
      },
      "outputs": [],
      "source": [
        "numerical = ['tenure', 'monthlycharges', 'totalcharges']\n",
        "\n",
        "categorical = [\n",
        "    'gender',\n",
        "    'seniorcitizen',\n",
        "    'partner',\n",
        "    'dependents',\n",
        "    'phoneservice',\n",
        "    'multiplelines',\n",
        "    'internetservice',\n",
        "    'onlinesecurity',\n",
        "    'onlinebackup',\n",
        "    'deviceprotection',\n",
        "    'techsupport',\n",
        "    'streamingtv',\n",
        "    'streamingmovies',\n",
        "    'contract',\n",
        "    'paperlessbilling',\n",
        "    'paymentmethod',\n",
        "]"
      ]
    },
    {
      "cell_type": "code",
      "execution_count": 8,
      "id": "92708443",
      "metadata": {
        "id": "92708443"
      },
      "outputs": [],
      "source": [
        "def train(df_train, y_train, C=1.0):\n",
        "    dicts = df_train[categorical + numerical].to_dict(orient='records')\n",
        "\n",
        "    dv = DictVectorizer(sparse=False)\n",
        "    X_train = dv.fit_transform(dicts)\n",
        "\n",
        "    model = LogisticRegression(C=C, max_iter=1000)\n",
        "    model.fit(X_train, y_train)\n",
        "\n",
        "    return dv, model"
      ]
    },
    {
      "cell_type": "code",
      "execution_count": 9,
      "id": "08ac302c",
      "metadata": {
        "id": "08ac302c"
      },
      "outputs": [],
      "source": [
        "def predict(df, dv, model):\n",
        "    dicts = df[categorical + numerical].to_dict(orient='records')\n",
        "\n",
        "    X = dv.transform(dicts)\n",
        "    y_pred = model.predict_proba(X)[:, 1]\n",
        "\n",
        "    return y_pred"
      ]
    },
    {
      "cell_type": "code",
      "source": [
        "C = 1.0\n",
        "n_splits = 5"
      ],
      "metadata": {
        "id": "AIxJmZApNiMz"
      },
      "id": "AIxJmZApNiMz",
      "execution_count": 10,
      "outputs": []
    },
    {
      "cell_type": "code",
      "source": [
        "kfold = KFold(n_splits=n_splits, shuffle=True, random_state=1)\n",
        "\n",
        "scores = []\n",
        "\n",
        "for train_idx, val_idx in kfold.split(df_full_train):\n",
        "    df_train = df_full_train.iloc[train_idx]\n",
        "    df_val = df_full_train.iloc[val_idx]\n",
        "\n",
        "    y_train = df_train.churn.values\n",
        "    y_val = df_val.churn.values\n",
        "\n",
        "    dv, model = train(df_train, y_train, C=C)\n",
        "    y_pred = predict(df_val, dv, model)\n",
        "\n",
        "    auc = roc_auc_score(y_val, y_pred)\n",
        "    scores.append(auc)\n",
        "\n",
        "print('C=%s %.3f +- %.3f' % (C, np.mean(scores), np.std(scores)))"
      ],
      "metadata": {
        "colab": {
          "base_uri": "https://localhost:8080/"
        },
        "id": "fDMPZdGDNzmt",
        "outputId": "84dd6677-c073-43fc-c2c2-2bfbea3f9dee"
      },
      "id": "fDMPZdGDNzmt",
      "execution_count": 11,
      "outputs": [
        {
          "output_type": "stream",
          "name": "stdout",
          "text": [
            "C=1.0 0.839 +- 0.011\n"
          ]
        }
      ]
    },
    {
      "cell_type": "code",
      "source": [
        "scores"
      ],
      "metadata": {
        "colab": {
          "base_uri": "https://localhost:8080/"
        },
        "id": "JFOFhUHiQkyb",
        "outputId": "1a4efd95-3944-4721-e44e-f608dd04b87f"
      },
      "id": "JFOFhUHiQkyb",
      "execution_count": 12,
      "outputs": [
        {
          "output_type": "execute_result",
          "data": {
            "text/plain": [
              "[0.8419622135350024,\n",
              " 0.8568513338216217,\n",
              " 0.8406761625627719,\n",
              " 0.8239829091584618,\n",
              " 0.8308574879227053]"
            ]
          },
          "metadata": {},
          "execution_count": 12
        }
      ]
    },
    {
      "cell_type": "code",
      "execution_count": 13,
      "id": "03e81326",
      "metadata": {
        "colab": {
          "base_uri": "https://localhost:8080/"
        },
        "id": "03e81326",
        "outputId": "d48973e7-5c88-4b9b-fe22-0b5818684a10"
      },
      "outputs": [
        {
          "output_type": "execute_result",
          "data": {
            "text/plain": [
              "0.856455259255658"
            ]
          },
          "metadata": {},
          "execution_count": 13
        }
      ],
      "source": [
        "dv, model = train(df_full_train, df_full_train.churn.values, C=1.0)\n",
        "y_pred = predict(df_test, dv, model)\n",
        "y_test = df_test.churn.values\n",
        "auc = roc_auc_score(y_test, y_pred)\n",
        "auc"
      ]
    },
    {
      "cell_type": "markdown",
      "source": [
        "**Question 1** What's the version of pipenv you installed?"
      ],
      "metadata": {
        "id": "zNeSbXY2I3Hl"
      },
      "id": "zNeSbXY2I3Hl"
    },
    {
      "cell_type": "code",
      "source": [
        "!pipenv install"
      ],
      "metadata": {
        "id": "-IVCObBCGDzm",
        "outputId": "4b543b4b-e5bc-488c-bc03-505086a44d4b",
        "colab": {
          "base_uri": "https://localhost:8080/"
        }
      },
      "id": "-IVCObBCGDzm",
      "execution_count": 1,
      "outputs": [
        {
          "output_type": "stream",
          "name": "stdout",
          "text": [
            "\u001b[1mInstalling dependencies from Pipfile.lock \u001b[0m\u001b[1m(\u001b[0m\u001b[1m1bed02\u001b[0m\u001b[1m)\u001b[0m\u001b[1;33m...\u001b[0m\n",
            "To activate this project's virtualenv, run \u001b[33mpipenv shell\u001b[0m.\n",
            "Alternatively, run a command inside the virtualenv with \u001b[33mpipenv run\u001b[0m.\n"
          ]
        }
      ]
    },
    {
      "cell_type": "code",
      "source": [
        "!pipenv shell"
      ],
      "metadata": {
        "id": "VubbUpXVL7N4",
        "outputId": "8e9e4d28-8c1e-4866-f9c5-3f5aefa16185",
        "colab": {
          "base_uri": "https://localhost:8080/"
        }
      },
      "id": "VubbUpXVL7N4",
      "execution_count": 7,
      "outputs": [
        {
          "output_type": "stream",
          "name": "stdout",
          "text": [
            "Launching subshell in virtual environment...\n",
            "\u001b[?2004h\u001b[01;34m/content\u001b[00m#  . /root/.local/share/virtualenvs/content-cQIIIOO2/bin/activate\r\n",
            "\u001b[?2004l\r\u001b[?2004h(content) \u001b[01;34m/content\u001b[00m# \n",
            "Aborted!\n",
            "^C\n"
          ]
        }
      ]
    },
    {
      "cell_type": "code",
      "source": [
        "!pipenv --version"
      ],
      "metadata": {
        "id": "73MtwVgQF9lf",
        "outputId": "fecff286-8166-47eb-e6af-a3de01a7981e",
        "colab": {
          "base_uri": "https://localhost:8080/"
        }
      },
      "id": "73MtwVgQF9lf",
      "execution_count": 6,
      "outputs": [
        {
          "output_type": "stream",
          "name": "stdout",
          "text": [
            "\u001b[1mpipenv\u001b[0m, version 2023.10.3\n"
          ]
        }
      ]
    },
    {
      "cell_type": "markdown",
      "source": [
        "**Question 2** What's the first hash for scikit-learn you get in Pipfile.lock?"
      ],
      "metadata": {
        "id": "oaQwcrOcKDMf"
      },
      "id": "oaQwcrOcKDMf"
    },
    {
      "cell_type": "code",
      "source": [
        "!pipenv install scikit-learn==1.3.1"
      ],
      "metadata": {
        "id": "fnblbAe8JJU_",
        "outputId": "72435b56-a64c-4ef3-9823-0530ebfd6f1d",
        "colab": {
          "base_uri": "https://localhost:8080/"
        }
      },
      "id": "fnblbAe8JJU_",
      "execution_count": 8,
      "outputs": [
        {
          "output_type": "stream",
          "name": "stdout",
          "text": [
            "\u001b[1;32mInstalling scikit-\u001b[0m\u001b[1;33mlearn\u001b[0m\u001b[1;32m==\u001b[0m\u001b[1;36m1.3\u001b[0m\u001b[1;32m.\u001b[0m\u001b[1;36m1\u001b[0m\u001b[1;33m...\u001b[0m\n",
            "\u001b[?25lResolving scikit-\u001b[33mlearn\u001b[0m==\u001b[1;36m1.3\u001b[0m.\u001b[1;36m1\u001b[0m\u001b[33m...\u001b[0m\n",
            "\u001b[32m⠋\u001b[0m Installing...\r\u001b[2K✔ Installation Succeeded\n",
            "\u001b[32m⠋\u001b[0m Installing scikit-learn...\r\u001b[2K\u001b[32m⠋\u001b[0m Installing scikit-learn...\n",
            "\u001b[?25h\r\u001b[1A\u001b[2K\u001b[1mInstalling dependencies from Pipfile.lock \u001b[0m\u001b[1m(\u001b[0m\u001b[1m1bed02\u001b[0m\u001b[1m)\u001b[0m\u001b[1;33m...\u001b[0m\n",
            "To activate this project's virtualenv, run \u001b[33mpipenv shell\u001b[0m.\n",
            "Alternatively, run a command inside the virtualenv with \u001b[33mpipenv run\u001b[0m.\n"
          ]
        }
      ]
    },
    {
      "cell_type": "code",
      "source": [
        "with open('Pipfile.lock', 'r') as file:\n",
        "    pipfile_lock = file.read()\n",
        "\n",
        "import re\n",
        "\n",
        "match = re.search(r'\"scikit-learn\":\\s{\\n\\s\\s\"hash\":\\s\"(.*?)\"', pipfile_lock)\n",
        "if match:\n",
        "    scikit_learn_hash = match.group(1)\n",
        "    print(scikit_learn_hash)\n",
        "else:\n",
        "    print(\"Хэш для scikit-learn не найден в Pipfile.lock\")\n"
      ],
      "metadata": {
        "id": "jiEOlpRnMj8v",
        "outputId": "32206423-670d-480a-fab0-9e57dcb1719f",
        "colab": {
          "base_uri": "https://localhost:8080/"
        }
      },
      "id": "jiEOlpRnMj8v",
      "execution_count": 10,
      "outputs": [
        {
          "output_type": "stream",
          "name": "stdout",
          "text": [
            "Хэш для scikit-learn не найден в Pipfile.lock\n"
          ]
        }
      ]
    },
    {
      "cell_type": "code",
      "source": [
        "!pipenv graph | grep scikit-learn\n"
      ],
      "metadata": {
        "id": "HlIjES3YNB6w",
        "outputId": "4edfec4b-35a2-45f5-d3bf-3575f52247a0",
        "colab": {
          "base_uri": "https://localhost:8080/"
        }
      },
      "id": "HlIjES3YNB6w",
      "execution_count": 12,
      "outputs": [
        {
          "output_type": "stream",
          "name": "stdout",
          "text": [
            "scikit-learn==1.3.1\n"
          ]
        }
      ]
    },
    {
      "cell_type": "markdown",
      "source": [
        "**Save the model**"
      ],
      "metadata": {
        "id": "MSY5_ryD9tFF"
      },
      "id": "MSY5_ryD9tFF"
    },
    {
      "cell_type": "code",
      "source": [
        "import pickle"
      ],
      "metadata": {
        "id": "T7oZNRSD9wV2"
      },
      "id": "T7oZNRSD9wV2",
      "execution_count": 14,
      "outputs": []
    },
    {
      "cell_type": "code",
      "source": [
        "out_file = f'model_C={C}.bin'\n",
        "out_file"
      ],
      "metadata": {
        "colab": {
          "base_uri": "https://localhost:8080/",
          "height": 36
        },
        "id": "pYVY6D_-98RY",
        "outputId": "4a647086-8483-48e4-ac02-f3a00cc6f63e"
      },
      "id": "pYVY6D_-98RY",
      "execution_count": 15,
      "outputs": [
        {
          "output_type": "execute_result",
          "data": {
            "text/plain": [
              "'model_C=1.0.bin'"
            ],
            "application/vnd.google.colaboratory.intrinsic+json": {
              "type": "string"
            }
          },
          "metadata": {},
          "execution_count": 15
        }
      ]
    },
    {
      "cell_type": "code",
      "source": [
        "f_out = open(out_file, 'wb')\n",
        "(pickle.dump((dv, model), f_out))\n",
        "f_out.close()"
      ],
      "metadata": {
        "id": "3iTwXoux-KSd"
      },
      "id": "3iTwXoux-KSd",
      "execution_count": 16,
      "outputs": []
    },
    {
      "cell_type": "code",
      "source": [
        "with open(out_file, 'wb') as f_out:\n",
        "  (pickle.dump((dv, model), f_out))"
      ],
      "metadata": {
        "id": "b6sbUySuCA0m"
      },
      "id": "b6sbUySuCA0m",
      "execution_count": 17,
      "outputs": []
    },
    {
      "cell_type": "markdown",
      "source": [
        "**Load the model**"
      ],
      "metadata": {
        "id": "MUagvMe3CSAN"
      },
      "id": "MUagvMe3CSAN"
    },
    {
      "cell_type": "code",
      "source": [
        "import pickle"
      ],
      "metadata": {
        "id": "2-Wd6CVvCasW"
      },
      "id": "2-Wd6CVvCasW",
      "execution_count": 20,
      "outputs": []
    },
    {
      "cell_type": "code",
      "source": [
        "model_file = 'model_C=1.0.bin'"
      ],
      "metadata": {
        "id": "WXnZjcQzCgKd"
      },
      "id": "WXnZjcQzCgKd",
      "execution_count": 21,
      "outputs": []
    },
    {
      "cell_type": "code",
      "source": [
        "with open(model_file, 'rb') as f_in:\n",
        "  dv, model = pickle.load(f_in)"
      ],
      "metadata": {
        "id": "fRSL_CLsCqpr"
      },
      "id": "fRSL_CLsCqpr",
      "execution_count": 22,
      "outputs": []
    },
    {
      "cell_type": "code",
      "source": [
        "dv, model"
      ],
      "metadata": {
        "colab": {
          "base_uri": "https://localhost:8080/"
        },
        "id": "l9B3S8VXC5Mc",
        "outputId": "17eb1850-b8b9-4ce0-df70-251b2f6af1c9"
      },
      "id": "l9B3S8VXC5Mc",
      "execution_count": 23,
      "outputs": [
        {
          "output_type": "execute_result",
          "data": {
            "text/plain": [
              "(DictVectorizer(sparse=False), LogisticRegression(max_iter=1000))"
            ]
          },
          "metadata": {},
          "execution_count": 23
        }
      ]
    },
    {
      "cell_type": "code",
      "source": [
        "customer = {\n",
        "  'gender': 'female',\n",
        " 'seniorcitizen': 0,\n",
        " 'partner': 'yes',\n",
        " 'dependents': 'yes',\n",
        " 'phoneservice': 'yes',\n",
        " 'multiplelines': 'yes',\n",
        " 'internetservice': 'fiber_optic',\n",
        " 'onlinesecurity': 'yes',\n",
        " 'onlinebackup': 'no',\n",
        " 'deviceprotection': 'yes',\n",
        " 'techsupport': 'no',\n",
        " 'streamingtv': 'no',\n",
        " 'streamingmovies': 'no',\n",
        " 'contract': 'month-to-month',\n",
        " 'paperlessbilling': 'yes',\n",
        " 'paymentmethod': 'electronic_check',\n",
        " 'tenure': 1,\n",
        " 'monthlycharges': 29.85,\n",
        " 'totalcharges': 29.85\n",
        "  }"
      ],
      "metadata": {
        "id": "oyDCZ2t4Bmfd"
      },
      "id": "oyDCZ2t4Bmfd",
      "execution_count": 24,
      "outputs": []
    }
  ],
  "metadata": {
    "kernelspec": {
      "display_name": "Python 3 (ipykernel)",
      "language": "python",
      "name": "python3"
    },
    "language_info": {
      "codemirror_mode": {
        "name": "ipython",
        "version": 3
      },
      "file_extension": ".py",
      "mimetype": "text/x-python",
      "name": "python",
      "nbconvert_exporter": "python",
      "pygments_lexer": "ipython3",
      "version": "3.8.11"
    },
    "colab": {
      "provenance": []
    }
  },
  "nbformat": 4,
  "nbformat_minor": 5
}